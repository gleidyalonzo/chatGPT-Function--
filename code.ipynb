{
 "cells": [
  {
   "cell_type": "code",
   "execution_count": 1,
   "id": "7fe6d1c3",
   "metadata": {},
   "outputs": [
    {
     "name": "stdout",
     "output_type": "stream",
     "text": [
      "Collecting chatGPT"
     ]
    },
    {
     "name": "stderr",
     "output_type": "stream",
     "text": [
      "ERROR: pip's dependency resolver does not currently take into account all the packages that are installed. This behaviour is the source of the following dependency conflicts.\n"
     ]
    },
    {
     "name": "stdout",
     "output_type": "stream",
     "text": [
      "\n",
      "  Downloading chatgpt-2.2212.0-py3-none-any.whl (24 kB)\n",
      "Collecting tls-client\n",
      "  Downloading tls_client-0.2-py3-none-any.whl (35.2 MB)\n",
      "Collecting rich\n",
      "  Downloading rich-13.3.3-py3-none-any.whl (238 kB)\n",
      "Collecting markdown-it-py<3.0.0,>=2.2.0\n",
      "  Downloading markdown_it_py-2.2.0-py3-none-any.whl (84 kB)\n",
      "Collecting typing-extensions<5.0,>=4.0.0\n",
      "  Downloading typing_extensions-4.5.0-py3-none-any.whl (27 kB)\n",
      "Collecting pygments<3.0.0,>=2.13.0\n",
      "  Downloading Pygments-2.14.0-py3-none-any.whl (1.1 MB)\n",
      "Collecting mdurl~=0.1\n",
      "  Downloading mdurl-0.1.2-py3-none-any.whl (10.0 kB)\n",
      "Installing collected packages: mdurl, typing-extensions, pygments, markdown-it-py, tls-client, rich, chatGPT\n",
      "  Attempting uninstall: typing-extensions\n",
      "    Found existing installation: typing-extensions 3.10.0.2\n",
      "    Uninstalling typing-extensions-3.10.0.2:\n",
      "      Successfully uninstalled typing-extensions-3.10.0.2\n",
      "  Attempting uninstall: pygments\n",
      "    Found existing installation: Pygments 2.10.0\n",
      "    Uninstalling Pygments-2.10.0:\n",
      "      Successfully uninstalled Pygments-2.10.0\n",
      "Successfully installed chatGPT-2.2212.0 markdown-it-py-2.2.0 mdurl-0.1.2 pygments-2.14.0 rich-13.3.3 tls-client-0.2 typing-extensions-4.5.0\n"
     ]
    },
    {
     "name": "stderr",
     "output_type": "stream",
     "text": [
      "spyder 4.2.5 requires pyqt5<5.13, which is not installed.\n",
      "spyder 4.2.5 requires pyqtwebengine<5.13, which is not installed.\n"
     ]
    }
   ],
   "source": [
    "!pip install chatGPT"
   ]
  },
  {
   "cell_type": "markdown",
   "id": "a43ee4c2",
   "metadata": {},
   "source": [
    "\n",
    "They way it works is, the function chatGPT uses the OpenAI API to generate text based on a prompt provided as the input parameter. To find your API go to your OpenAI account to create an API Key\n",
    "\n",
    "The function sends a HTTP POST request to the OpenAI API endpoint, passing in a set of parameters as a JSON object. These parameters include the model to use (in this case, the text-davinci-003 model), the prompt text to start with, the maximum number of tokens to generate, and the temperature to use for sampling from the model.\n",
    "\n",
    "The function then extracts the generated text from the response object and returns it. Specifically, it extracts the first generated text choice (out of possibly multiple choices) from the choices list in the response, which is assumed to be the most likely continuation of the prompt. The print function is used to display the generated text on the console.\n",
    "\n"
   ]
  },
  {
   "cell_type": "code",
   "execution_count": null,
   "id": "aba519c1",
   "metadata": {},
   "outputs": [],
   "source": [
    "import requests\n",
    "\n",
    "# Defining start\n",
    "def start():\n",
    "    #input statement to start the game officially\n",
    "    input(prompt=\"Welcome to ChatGPT. Press Enter to continue\")\n",
    "    text = input(prompt=\"How can I help? \")\n",
    "    \n",
    "    if len(text) > 0:\n",
    "        \n",
    "    # calling chatGPT function with the user input as argument\n",
    "        chatGPT(text)\n",
    "        continued()\n",
    "    else:\n",
    "        print(\"Invalid Entry, enter again...\")\n",
    "        start()\n",
    "\n",
    "# calling the start function to begin the program\n",
    "\n",
    "def continued():\n",
    "    input(\"Press enter to make another request\")\n",
    "    next_text = input('How can I help?')\n",
    "    \n",
    "    if len(next_text) > 0:\n",
    "        chatGPT(next_text)\n",
    "        input(prompt =\"Would You like to make another request: Enter Yes or 1, otherwise press enter\")\n",
    "        another =input(prompt= 'How can I help')\n",
    "        if len(another) > 0:\n",
    "            chatGPT(another)\n",
    "            start()\n",
    "        else:\n",
    "            print(\"You have exited ChatGPT. Run the code again to make another request\")\n",
    "    else:\n",
    "        start()\n",
    "    \n",
    "start()    "
   ]
  }
 ],
 "metadata": {
  "kernelspec": {
   "display_name": "Python 3 (ipykernel)",
   "language": "python",
   "name": "python3"
  },
  "language_info": {
   "codemirror_mode": {
    "name": "ipython",
    "version": 3
   },
   "file_extension": ".py",
   "mimetype": "text/x-python",
   "name": "python",
   "nbconvert_exporter": "python",
   "pygments_lexer": "ipython3",
   "version": "3.8.8"
  },
  "toc": {
   "base_numbering": 1,
   "nav_menu": {},
   "number_sections": true,
   "sideBar": true,
   "skip_h1_title": false,
   "title_cell": "Table of Contents",
   "title_sidebar": "Contents",
   "toc_cell": false,
   "toc_position": {},
   "toc_section_display": true,
   "toc_window_display": false
  },
  "varInspector": {
   "cols": {
    "lenName": 16,
    "lenType": 16,
    "lenVar": 40
   },
   "kernels_config": {
    "python": {
     "delete_cmd_postfix": "",
     "delete_cmd_prefix": "del ",
     "library": "var_list.py",
     "varRefreshCmd": "print(var_dic_list())"
    },
    "r": {
     "delete_cmd_postfix": ") ",
     "delete_cmd_prefix": "rm(",
     "library": "var_list.r",
     "varRefreshCmd": "cat(var_dic_list()) "
    }
   },
   "types_to_exclude": [
    "module",
    "function",
    "builtin_function_or_method",
    "instance",
    "_Feature"
   ],
   "window_display": false
  }
 },
 "nbformat": 4,
 "nbformat_minor": 5
}
